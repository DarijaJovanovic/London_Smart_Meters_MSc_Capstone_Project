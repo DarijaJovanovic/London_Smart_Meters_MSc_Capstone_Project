{
 "cells": [
  {
   "cell_type": "code",
   "execution_count": 1,
   "metadata": {},
   "outputs": [
    {
     "name": "stderr",
     "output_type": "stream",
     "text": [
      "C:\\Users\\m\\anaconda3\\lib\\site-packages\\ipykernel_launcher.py:7: FutureWarning: The pandas.datetime class is deprecated and will be removed from pandas in a future version. Import from datetime module instead.\n",
      "  import sys\n"
     ]
    }
   ],
   "source": [
    "# importing libraries\n",
    "# https://anaconda.org/mzh/pyflux\n",
    "import pandas as pd\n",
    "import numpy as np\n",
    "import seaborn as sns \n",
    "%matplotlib inline \n",
    "from pandas import datetime\n",
    "from matplotlib import pyplot as plt\n",
    "import os\n",
    "from datetime import datetime\n",
    "from statsmodels.tsa.arima_model import ARIMA\n",
    "from matplotlib import pyplot\n",
    "from pandas.plotting import autocorrelation_plot\n",
    "from sklearn.cluster import KMeans\n",
    "from sklearn.preprocessing import LabelEncoder\n",
    "from sklearn.preprocessing import MinMaxScaler\n",
    "from statsmodels.graphics.tsaplots import plot_acf, plot_pacf\n",
    "import statsmodels.api as sm\n",
    "from statsmodels.tsa.statespace.sarimax import SARIMAX\n",
    "import math\n",
    "from sklearn.preprocessing import MinMaxScaler\n",
    "from sklearn.metrics import mean_squared_error\n",
    "import pyflux as pf"
   ]
  },
  {
   "cell_type": "markdown",
   "metadata": {},
   "source": [
    "# Affluent Achievers"
   ]
  },
  {
   "cell_type": "code",
   "execution_count": 2,
   "metadata": {},
   "outputs": [],
   "source": [
    "AA_a = pd.read_csv(r\"\\AA_anomalies.csv\")"
   ]
  },
  {
   "cell_type": "code",
   "execution_count": 3,
   "metadata": {},
   "outputs": [
    {
     "data": {
      "text/html": [
       "<div>\n",
       "<style scoped>\n",
       "    .dataframe tbody tr th:only-of-type {\n",
       "        vertical-align: middle;\n",
       "    }\n",
       "\n",
       "    .dataframe tbody tr th {\n",
       "        vertical-align: top;\n",
       "    }\n",
       "\n",
       "    .dataframe thead th {\n",
       "        text-align: right;\n",
       "    }\n",
       "</style>\n",
       "<table border=\"1\" class=\"dataframe\">\n",
       "  <thead>\n",
       "    <tr style=\"text-align: right;\">\n",
       "      <th></th>\n",
       "      <th>Household_Id</th>\n",
       "      <th>day</th>\n",
       "      <th>energy_median</th>\n",
       "      <th>energy_mean</th>\n",
       "      <th>energy_max</th>\n",
       "      <th>energy_count</th>\n",
       "      <th>energy_std</th>\n",
       "      <th>energy_sum</th>\n",
       "      <th>energy_min</th>\n",
       "      <th>Usage_Type</th>\n",
       "      <th>Acorn</th>\n",
       "      <th>Acorn_grouped</th>\n",
       "      <th>file</th>\n",
       "      <th>Score</th>\n",
       "      <th>Anomaly</th>\n",
       "      <th>month</th>\n",
       "    </tr>\n",
       "  </thead>\n",
       "  <tbody>\n",
       "    <tr>\n",
       "      <th>0</th>\n",
       "      <td>MAC000002</td>\n",
       "      <td>28/02/2013</td>\n",
       "      <td>0.4985</td>\n",
       "      <td>0.679750</td>\n",
       "      <td>1.978</td>\n",
       "      <td>48</td>\n",
       "      <td>0.542546</td>\n",
       "      <td>32.63</td>\n",
       "      <td>0.081</td>\n",
       "      <td>Fixed</td>\n",
       "      <td>ACORN-A</td>\n",
       "      <td>Affluent</td>\n",
       "      <td>block_0</td>\n",
       "      <td>-0.025364</td>\n",
       "      <td>-1</td>\n",
       "      <td>Feb</td>\n",
       "    </tr>\n",
       "    <tr>\n",
       "      <th>1</th>\n",
       "      <td>MAC000002</td>\n",
       "      <td>03/01/2013</td>\n",
       "      <td>0.3390</td>\n",
       "      <td>0.818417</td>\n",
       "      <td>2.524</td>\n",
       "      <td>48</td>\n",
       "      <td>0.723187</td>\n",
       "      <td>39.28</td>\n",
       "      <td>0.071</td>\n",
       "      <td>Fixed</td>\n",
       "      <td>ACORN-A</td>\n",
       "      <td>Affluent</td>\n",
       "      <td>block_0</td>\n",
       "      <td>-0.062630</td>\n",
       "      <td>-1</td>\n",
       "      <td>Jan</td>\n",
       "    </tr>\n",
       "    <tr>\n",
       "      <th>2</th>\n",
       "      <td>MAC000002</td>\n",
       "      <td>03/05/2013</td>\n",
       "      <td>0.7230</td>\n",
       "      <td>0.684500</td>\n",
       "      <td>2.374</td>\n",
       "      <td>48</td>\n",
       "      <td>0.500225</td>\n",
       "      <td>32.86</td>\n",
       "      <td>0.072</td>\n",
       "      <td>Fixed</td>\n",
       "      <td>ACORN-A</td>\n",
       "      <td>Affluent</td>\n",
       "      <td>block_0</td>\n",
       "      <td>-0.026612</td>\n",
       "      <td>-1</td>\n",
       "      <td>May</td>\n",
       "    </tr>\n",
       "    <tr>\n",
       "      <th>3</th>\n",
       "      <td>MAC000246</td>\n",
       "      <td>01/01/2013</td>\n",
       "      <td>0.5215</td>\n",
       "      <td>0.760667</td>\n",
       "      <td>3.244</td>\n",
       "      <td>48</td>\n",
       "      <td>0.703888</td>\n",
       "      <td>36.51</td>\n",
       "      <td>0.060</td>\n",
       "      <td>Fixed</td>\n",
       "      <td>ACORN-A</td>\n",
       "      <td>Affluent</td>\n",
       "      <td>block_0</td>\n",
       "      <td>-0.052497</td>\n",
       "      <td>-1</td>\n",
       "      <td>Jan</td>\n",
       "    </tr>\n",
       "    <tr>\n",
       "      <th>4</th>\n",
       "      <td>MAC000246</td>\n",
       "      <td>01/08/2013</td>\n",
       "      <td>0.6480</td>\n",
       "      <td>0.752000</td>\n",
       "      <td>2.949</td>\n",
       "      <td>48</td>\n",
       "      <td>0.822928</td>\n",
       "      <td>36.10</td>\n",
       "      <td>0.028</td>\n",
       "      <td>Fixed</td>\n",
       "      <td>ACORN-A</td>\n",
       "      <td>Affluent</td>\n",
       "      <td>block_0</td>\n",
       "      <td>-0.047265</td>\n",
       "      <td>-1</td>\n",
       "      <td>Aug</td>\n",
       "    </tr>\n",
       "  </tbody>\n",
       "</table>\n",
       "</div>"
      ],
      "text/plain": [
       "  Household_Id         day  energy_median  energy_mean  energy_max  \\\n",
       "0    MAC000002  28/02/2013         0.4985     0.679750       1.978   \n",
       "1    MAC000002  03/01/2013         0.3390     0.818417       2.524   \n",
       "2    MAC000002  03/05/2013         0.7230     0.684500       2.374   \n",
       "3    MAC000246  01/01/2013         0.5215     0.760667       3.244   \n",
       "4    MAC000246  01/08/2013         0.6480     0.752000       2.949   \n",
       "\n",
       "   energy_count  energy_std  energy_sum  energy_min Usage_Type    Acorn  \\\n",
       "0            48    0.542546       32.63       0.081      Fixed  ACORN-A   \n",
       "1            48    0.723187       39.28       0.071      Fixed  ACORN-A   \n",
       "2            48    0.500225       32.86       0.072      Fixed  ACORN-A   \n",
       "3            48    0.703888       36.51       0.060      Fixed  ACORN-A   \n",
       "4            48    0.822928       36.10       0.028      Fixed  ACORN-A   \n",
       "\n",
       "  Acorn_grouped     file     Score  Anomaly month  \n",
       "0      Affluent  block_0 -0.025364       -1   Feb  \n",
       "1      Affluent  block_0 -0.062630       -1   Jan  \n",
       "2      Affluent  block_0 -0.026612       -1   May  \n",
       "3      Affluent  block_0 -0.052497       -1   Jan  \n",
       "4      Affluent  block_0 -0.047265       -1   Aug  "
      ]
     },
     "execution_count": 3,
     "metadata": {},
     "output_type": "execute_result"
    }
   ],
   "source": [
    "AA_a.head(5)"
   ]
  },
  {
   "cell_type": "code",
   "execution_count": 14,
   "metadata": {},
   "outputs": [
    {
     "data": {
      "text/plain": [
       "9387"
      ]
     },
     "execution_count": 14,
     "metadata": {},
     "output_type": "execute_result"
    }
   ],
   "source": [
    "len(AA_a)"
   ]
  },
  {
   "cell_type": "code",
   "execution_count": 5,
   "metadata": {},
   "outputs": [
    {
     "name": "stdout",
     "output_type": "stream",
     "text": [
      "  month Household_Id  day\n",
      "0   Mar    MAC004179   31\n",
      "1   Mar    MAC004249   31\n",
      "2   Aug    MAC003422   31\n",
      "3   Oct    MAC004249   31\n",
      "4   Oct    MAC004179   31\n"
     ]
    }
   ],
   "source": [
    "grouped = (AA_a.groupby(\n",
    "   ['month', 'Household_Id']\n",
    ").agg(\n",
    "    {\n",
    "         'day': 'count'\n",
    "    }\n",
    ")).sort_values(by=\"day\", ascending = False).reset_index()\n",
    "print(grouped.head())"
   ]
  },
  {
   "cell_type": "code",
   "execution_count": null,
   "metadata": {},
   "outputs": [],
   "source": [
    "g1 = AA_a.groupby"
   ]
  },
  {
   "cell_type": "code",
   "execution_count": 6,
   "metadata": {},
   "outputs": [
    {
     "data": {
      "text/plain": [
       "1276"
      ]
     },
     "execution_count": 6,
     "metadata": {},
     "output_type": "execute_result"
    }
   ],
   "source": [
    "len(grouped)"
   ]
  },
  {
   "cell_type": "code",
   "execution_count": null,
   "metadata": {},
   "outputs": [],
   "source": [
    "# saving the combined data frame in folder\n",
    "grouped.to_csv(r'C:\\Users\\m\\Desktop\\Masters Modules\\MS5103 Business Analytics Project\\Datasets\\Smart Meters\\Cleaned Data\\daily_dataset\\AA_anomalies_months.csv', index = False)"
   ]
  },
  {
   "cell_type": "markdown",
   "metadata": {},
   "source": [
    "# Rising Prosperity"
   ]
  },
  {
   "cell_type": "code",
   "execution_count": 7,
   "metadata": {},
   "outputs": [],
   "source": [
    "RP_a = pd.read_csv(r\"\\RP_anomalies.csv\")"
   ]
  },
  {
   "cell_type": "code",
   "execution_count": 8,
   "metadata": {},
   "outputs": [
    {
     "data": {
      "text/html": [
       "<div>\n",
       "<style scoped>\n",
       "    .dataframe tbody tr th:only-of-type {\n",
       "        vertical-align: middle;\n",
       "    }\n",
       "\n",
       "    .dataframe tbody tr th {\n",
       "        vertical-align: top;\n",
       "    }\n",
       "\n",
       "    .dataframe thead th {\n",
       "        text-align: right;\n",
       "    }\n",
       "</style>\n",
       "<table border=\"1\" class=\"dataframe\">\n",
       "  <thead>\n",
       "    <tr style=\"text-align: right;\">\n",
       "      <th></th>\n",
       "      <th>Household_Id</th>\n",
       "      <th>day</th>\n",
       "      <th>energy_median</th>\n",
       "      <th>energy_mean</th>\n",
       "      <th>energy_max</th>\n",
       "      <th>energy_count</th>\n",
       "      <th>energy_std</th>\n",
       "      <th>energy_sum</th>\n",
       "      <th>energy_min</th>\n",
       "      <th>Usage_Type</th>\n",
       "      <th>Acorn</th>\n",
       "      <th>Acorn_grouped</th>\n",
       "      <th>file</th>\n",
       "      <th>Score</th>\n",
       "      <th>Anomaly</th>\n",
       "      <th>month</th>\n",
       "    </tr>\n",
       "  </thead>\n",
       "  <tbody>\n",
       "    <tr>\n",
       "      <th>0</th>\n",
       "      <td>MAC000050</td>\n",
       "      <td>01/01/2013</td>\n",
       "      <td>0.5505</td>\n",
       "      <td>0.763500</td>\n",
       "      <td>2.071</td>\n",
       "      <td>48</td>\n",
       "      <td>0.588324</td>\n",
       "      <td>36.65</td>\n",
       "      <td>0.129</td>\n",
       "      <td>Fixed</td>\n",
       "      <td>ACORN-D</td>\n",
       "      <td>Affluent</td>\n",
       "      <td>block_7</td>\n",
       "      <td>-0.053299</td>\n",
       "      <td>-1</td>\n",
       "      <td>Jan</td>\n",
       "    </tr>\n",
       "    <tr>\n",
       "      <th>1</th>\n",
       "      <td>MAC000050</td>\n",
       "      <td>02/01/2013</td>\n",
       "      <td>0.4335</td>\n",
       "      <td>0.722083</td>\n",
       "      <td>2.423</td>\n",
       "      <td>48</td>\n",
       "      <td>0.677790</td>\n",
       "      <td>34.66</td>\n",
       "      <td>0.072</td>\n",
       "      <td>Fixed</td>\n",
       "      <td>ACORN-D</td>\n",
       "      <td>Affluent</td>\n",
       "      <td>block_7</td>\n",
       "      <td>-0.041453</td>\n",
       "      <td>-1</td>\n",
       "      <td>Jan</td>\n",
       "    </tr>\n",
       "    <tr>\n",
       "      <th>2</th>\n",
       "      <td>MAC000050</td>\n",
       "      <td>06/01/2013</td>\n",
       "      <td>0.5770</td>\n",
       "      <td>0.772729</td>\n",
       "      <td>2.983</td>\n",
       "      <td>48</td>\n",
       "      <td>0.746239</td>\n",
       "      <td>37.09</td>\n",
       "      <td>0.088</td>\n",
       "      <td>Fixed</td>\n",
       "      <td>ACORN-D</td>\n",
       "      <td>Affluent</td>\n",
       "      <td>block_7</td>\n",
       "      <td>-0.057965</td>\n",
       "      <td>-1</td>\n",
       "      <td>Jan</td>\n",
       "    </tr>\n",
       "    <tr>\n",
       "      <th>3</th>\n",
       "      <td>MAC000050</td>\n",
       "      <td>12/01/2013</td>\n",
       "      <td>0.7010</td>\n",
       "      <td>0.690479</td>\n",
       "      <td>2.573</td>\n",
       "      <td>48</td>\n",
       "      <td>0.629302</td>\n",
       "      <td>33.14</td>\n",
       "      <td>0.061</td>\n",
       "      <td>Fixed</td>\n",
       "      <td>ACORN-D</td>\n",
       "      <td>Affluent</td>\n",
       "      <td>block_7</td>\n",
       "      <td>-0.029326</td>\n",
       "      <td>-1</td>\n",
       "      <td>Jan</td>\n",
       "    </tr>\n",
       "    <tr>\n",
       "      <th>4</th>\n",
       "      <td>MAC000050</td>\n",
       "      <td>19/01/2013</td>\n",
       "      <td>0.6190</td>\n",
       "      <td>0.812625</td>\n",
       "      <td>2.896</td>\n",
       "      <td>48</td>\n",
       "      <td>0.759465</td>\n",
       "      <td>39.01</td>\n",
       "      <td>0.120</td>\n",
       "      <td>Fixed</td>\n",
       "      <td>ACORN-D</td>\n",
       "      <td>Affluent</td>\n",
       "      <td>block_7</td>\n",
       "      <td>-0.062630</td>\n",
       "      <td>-1</td>\n",
       "      <td>Jan</td>\n",
       "    </tr>\n",
       "  </tbody>\n",
       "</table>\n",
       "</div>"
      ],
      "text/plain": [
       "  Household_Id         day  energy_median  energy_mean  energy_max  \\\n",
       "0    MAC000050  01/01/2013         0.5505     0.763500       2.071   \n",
       "1    MAC000050  02/01/2013         0.4335     0.722083       2.423   \n",
       "2    MAC000050  06/01/2013         0.5770     0.772729       2.983   \n",
       "3    MAC000050  12/01/2013         0.7010     0.690479       2.573   \n",
       "4    MAC000050  19/01/2013         0.6190     0.812625       2.896   \n",
       "\n",
       "   energy_count  energy_std  energy_sum  energy_min Usage_Type    Acorn  \\\n",
       "0            48    0.588324       36.65       0.129      Fixed  ACORN-D   \n",
       "1            48    0.677790       34.66       0.072      Fixed  ACORN-D   \n",
       "2            48    0.746239       37.09       0.088      Fixed  ACORN-D   \n",
       "3            48    0.629302       33.14       0.061      Fixed  ACORN-D   \n",
       "4            48    0.759465       39.01       0.120      Fixed  ACORN-D   \n",
       "\n",
       "  Acorn_grouped     file     Score  Anomaly month  \n",
       "0      Affluent  block_7 -0.053299       -1   Jan  \n",
       "1      Affluent  block_7 -0.041453       -1   Jan  \n",
       "2      Affluent  block_7 -0.057965       -1   Jan  \n",
       "3      Affluent  block_7 -0.029326       -1   Jan  \n",
       "4      Affluent  block_7 -0.062630       -1   Jan  "
      ]
     },
     "execution_count": 8,
     "metadata": {},
     "output_type": "execute_result"
    }
   ],
   "source": [
    "RP_a.head(5)"
   ]
  },
  {
   "cell_type": "code",
   "execution_count": 10,
   "metadata": {},
   "outputs": [],
   "source": [
    "# dropping duplicate day rows\n",
    "RP_a = RP_a.drop_duplicates(subset='day', keep='first')"
   ]
  },
  {
   "cell_type": "code",
   "execution_count": 11,
   "metadata": {},
   "outputs": [
    {
     "name": "stdout",
     "output_type": "stream",
     "text": [
      "  month Household_Id  day\n",
      "0   Oct    MAC000073   17\n",
      "1   Sep    MAC000073   15\n",
      "2   May    MAC000073   15\n",
      "3   Nov    MAC000073   15\n",
      "4   Mar    MAC001766   15\n"
     ]
    }
   ],
   "source": [
    "grouped2 = (RP_a.groupby(\n",
    "   ['month', 'Household_Id']\n",
    ").agg(\n",
    "    {\n",
    "         'day': 'count'\n",
    "    }\n",
    ")).sort_values(by=\"day\", ascending = False).reset_index()\n",
    "print(grouped2.head())"
   ]
  },
  {
   "cell_type": "code",
   "execution_count": 12,
   "metadata": {},
   "outputs": [
    {
     "data": {
      "text/plain": [
       "74"
      ]
     },
     "execution_count": 12,
     "metadata": {},
     "output_type": "execute_result"
    }
   ],
   "source": [
    "len(grouped2)"
   ]
  },
  {
   "cell_type": "code",
   "execution_count": 13,
   "metadata": {},
   "outputs": [],
   "source": [
    "# saving the combined data frame in folder\n",
    "grouped2.to_csv(r'\\RP_anomalies_months_t.csv', index = False)"
   ]
  }
 ],
 "metadata": {
  "kernelspec": {
   "display_name": "Python 3",
   "language": "python",
   "name": "python3"
  },
  "language_info": {
   "codemirror_mode": {
    "name": "ipython",
    "version": 3
   },
   "file_extension": ".py",
   "mimetype": "text/x-python",
   "name": "python",
   "nbconvert_exporter": "python",
   "pygments_lexer": "ipython3",
   "version": "3.7.6"
  }
 },
 "nbformat": 4,
 "nbformat_minor": 4
}
